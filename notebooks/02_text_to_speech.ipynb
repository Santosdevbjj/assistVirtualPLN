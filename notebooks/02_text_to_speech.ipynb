{
 "nbformat": 4,
 "nbformat_minor": 5,
 "metadata": {
  "colab": {
   "provenance": [],
   "authorship_tag": "COLLAB_NOTEBOOK",
   "gpuType": "T4"
  },
  "kernelspec": {
   "name": "python3",
   "display_name": "Python 3"
  },
  "language_info": {
   "name": "python"
  }
 },
 "cells": [
  {
   "cell_type": "markdown",
   "metadata": {
    "id": "view-in-github",
    "colab_type": "text"
   },
   "source": [
    "<a href=\"https://colab.research.google.com/github/Santosdevbjj/assistVirtualPLN/blob/main/notebooks/02_text_to_speech.ipynb\" target=\"_parent\"><img src=\"https://colab.research.google.com/assets/colab-badge.svg\" alt=\"Open In Colab\"/></a>"
   ]
  },
  {
   "cell_type": "markdown",
   "metadata": {
    "id": "z9q9f3lPv92I"
   },
   "source": [
    "# **Notebook 02: Demonstração de Text-to-Speech**\n",
    "\n",
    "Este notebook demonstra o uso da biblioteca `pyttsx3` para converter texto em fala. Este é o módulo de resposta do seu assistente virtual, permitindo que ele se comunique de volta com o usuário."
   ]
  },
  {
   "cell_type": "markdown",
   "metadata": {
    "id": "V3lTz9_QwS5y"
   },
   "source": [
    "### **1. Instalação da Biblioteca**\n",
    "\n",
    "Primeiro, instalamos a biblioteca `pyttsx3`. Ela funciona offline e é compatível com diferentes sistemas operacionais (Windows, macOS e Linux)."
   ]
  },
  {
   "cell_type": "code",
   "metadata": {
    "id": "2M09JzQ_wTzG"
   },
   "source": [
    "# Instala a biblioteca pyttsx3\n",
    "!pip install pyttsx3"
   ],
   "execution_count": null,
   "outputs": []
  },
  {
   "cell_type": "markdown",
   "metadata": {
    "id": "yM43mUjlwW8v"
   },
   "source": [
    "### **2. Função de Conversão de Texto para Fala**\n",
    "\n",
    "Criamos uma função simples que inicializa o motor de fala e reproduz o texto fornecido. A função também pode ser configurada para usar vozes específicas, se disponíveis no sistema."
   ]
  },
  {
   "cell_type": "code",
   "metadata": {
    "id": "l9d02wF7wZgB"
   },
   "source": [
    "import pyttsx3\n",
    "\n",
    "def speak(text):\n",
    "    \"\"\"\n",
    "    Converte um texto em fala e o reproduz.\n",
    "    \"\"\"\n",
    "    engine = pyttsx3.init()\n",
    "    # Opcional: Configurar a voz para português do Brasil se disponível\n",
    "    voices = engine.getProperty('voices')\n",
    "    for voice in voices:\n",
    "        if \"brazil\" in voice.id.lower() or \"portuguese\" in voice.id.lower():\n",
    "            engine.setProperty('voice', voice.id)\n",
    "            print(f\"Usando a voz: {voice.name}\")\n",
    "            break\n",
    "\n",
    "    engine.say(text)\n",
    "    engine.runAndWait()"
   ],
   "execution_count": null,
   "outputs": []
  },
  {
   "cell_type": "markdown",
   "metadata": {
    "id": "T0w78p6Wwc4X"
   },
   "source": [
    "### **3. Teste da Função**\n",
    "\n",
    "Agora, execute a função `speak()` com algumas frases de teste para ouvir o resultado."
   ]
  },
  {
   "cell_type": "code",
   "metadata": {
    "id": "T-D8PqTswgK7"
   },
   "source": [
    "speak(\"Olá! Este é um teste do meu assistente virtual.\")\n",
    "speak(\"O sistema de conversão de texto para fala está funcionando corretamente.\")"
   ],
   "execution_count": null,
   "outputs": []
  },
  {
   "cell_type": "markdown",
   "metadata": {
    "id": "fW0rDkXvwjQO"
   },
   "source": [
    "### **Conclusão**\n",
    "\n",
    "A capacidade de converter texto em fala é essencial para fornecer um feedback audível e natural ao usuário. Combinando este notebook com o `01_speech_recognition.ipynb`, você terá a base de **entrada e saída de voz** para o seu assistente virtual."
   ]
  }
 ]
}
